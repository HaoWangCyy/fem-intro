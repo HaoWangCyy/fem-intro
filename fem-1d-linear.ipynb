{
 "metadata": {
  "name": "",
  "signature": "sha256:f8db2aa0c33c6ddb6c23cf95119eff825369a6d768201af3de9b9f86ec7062db"
 },
 "nbformat": 3,
 "nbformat_minor": 0,
 "worksheets": [
  {
   "cells": [
    {
     "cell_type": "markdown",
     "metadata": {},
     "source": [
      "**ITMO University**"
     ]
    },
    {
     "cell_type": "markdown",
     "metadata": {},
     "source": [
      "**Lectures \"Computations in Physics\" spring 2016**\n"
     ]
    },
    {
     "cell_type": "markdown",
     "metadata": {},
     "source": [
      "Konstantin Ladutenko"
     ]
    },
    {
     "cell_type": "markdown",
     "metadata": {},
     "source": [
      "recommended book: Anastasis C. Polycarpou \"Introduction to the Finite Element Method in Electromagnetics\" (doi:10.2200/S00019ED1V01Y200604CEM004)"
     ]
    },
    {
     "cell_type": "markdown",
     "metadata": {},
     "source": [
      "**<font size=\"5\">Solving 1D Poisson`s problem with Finite Element Method (FEM)</font>**"
     ]
    },
    {
     "cell_type": "markdown",
     "metadata": {},
     "source": [
      "<h1 id=\"tocheading\">Table of Contents</h1>\n",
      "<div id=\"toc\"></div>"
     ]
    },
    {
     "cell_type": "markdown",
     "metadata": {},
     "source": [
      "Initialize the notebook, import all needed libs"
     ]
    },
    {
     "cell_type": "code",
     "collapsed": false,
     "input": [
      "%matplotlib inline\n",
      "import matplotlib.pyplot as plt\n",
      "import numpy as np\n",
      "from sympy import *\n",
      "from IPython.display import display, Math, Latex\n",
      "from fractions import Fraction\n",
      "from sympy import symbols\n",
      "from sympy.plotting import plot\n",
      "\n",
      "init_printing(use_latex='mathjax')\n",
      "#init_printing()\n",
      "def latex_print( str ):\n",
      "   \"Helper to print LaTeX strings, takes raw string (like r'string')\"    \n",
      "   display(Latex(str))\n",
      "   return\n",
      "init_printing()  \n"
     ],
     "language": "python",
     "metadata": {},
     "outputs": [],
     "prompt_number": 55
    },
    {
     "cell_type": "heading",
     "level": 1,
     "metadata": {},
     "source": [
      "Analytical solution"
     ]
    },
    {
     "cell_type": "markdown",
     "metadata": {},
     "source": [
      "Basic example of Python SymPy usage.\n",
      "Set one dimensional Poisson`s equation"
     ]
    },
    {
     "cell_type": "code",
     "collapsed": false,
     "input": [
      "\n",
      "# Define symbols\n",
      "x, rho_0, eps_r, eps_0 ,d= symbols(\"x,rho_0,varepsilon_r,varepsilon_0,d\")\n",
      "V = Function('V')(x)\n",
      "V_0, V_d = symbols(\"V_0, V_d\")\n",
      "c_1, c_0 = symbols(\"c_1, c_0\")\n",
      "\n",
      "#The equation\n",
      "eq = rho_0/(eps_0*eps_r)       ###### Right hand side\n",
      "relational.Eq(diff(V,x,2), eq)\n"
     ],
     "language": "python",
     "metadata": {},
     "outputs": [
      {
       "latex": [
        "$$\\frac{d^{2}}{d x^{2}}  V{\\left (x \\right )} = \\frac{\\rho_{0}}{\\varepsilon_{0} \\varepsilon_{r}}$$"
       ],
       "metadata": {},
       "output_type": "pyout",
       "png": "[encoded data removed]",
       "prompt_number": 2,
       "text": [
        "  2                                \n",
        " d                     \u03c1\u2080          \n",
        "\u2500\u2500\u2500(V(x)) = \u2500\u2500\u2500\u2500\u2500\u2500\u2500\u2500\u2500\u2500\u2500\u2500\u2500\u2500\u2500\u2500\u2500\u2500\u2500\u2500\u2500\u2500\u2500\n",
        "  2         varepsilon\u2080\u22c5varepsilon\u1d63\n",
        "dx                                 "
       ]
      }
     ],
     "prompt_number": 2
    },
    {
     "cell_type": "markdown",
     "metadata": {},
     "source": [
      "Integrate it twice"
     ]
    },
    {
     "cell_type": "code",
     "collapsed": false,
     "input": [
      "Veq = integrate(integrate(eq,x) + c_1,x)+c_0        ###### Manually adding constants to integration\n",
      "relational.Eq(V,Veq)"
     ],
     "language": "python",
     "metadata": {},
     "outputs": [
      {
       "latex": [
        "$$V{\\left (x \\right )} = c_{0} + c_{1} x + \\frac{\\rho_{0} x^{2}}{2 \\varepsilon_{0} \\varepsilon_{r}}$$"
       ],
       "metadata": {},
       "output_type": "pyout",
       "png": "[encoded data removed]",
       "prompt_number": 3,
       "text": [
        "                                 2          \n",
        "                             \u03c1\u2080\u22c5x           \n",
        "V(x) = c\u2080 + c\u2081\u22c5x + \u2500\u2500\u2500\u2500\u2500\u2500\u2500\u2500\u2500\u2500\u2500\u2500\u2500\u2500\u2500\u2500\u2500\u2500\u2500\u2500\u2500\u2500\u2500\u2500\u2500\n",
        "                   2\u22c5varepsilon\u2080\u22c5varepsilon\u1d63"
       ]
      }
     ],
     "prompt_number": 3
    },
    {
     "cell_type": "markdown",
     "metadata": {},
     "source": [
      "Add *Dirichlet* boundary condition"
     ]
    },
    {
     "cell_type": "code",
     "collapsed": false,
     "input": [
      "display(relational.Eq(Veq.replace(x,0), V_0))       ###### x=0\n",
      "display(relational.Eq(Veq.replace(x,d), V_d))"
     ],
     "language": "python",
     "metadata": {},
     "outputs": [
      {
       "latex": [
        "$$c_{0} = V_{0}$$"
       ],
       "metadata": {},
       "output_type": "display_data",
       "png": "[encoded data removed]",
       "text": [
        "c\u2080 = V\u2080"
       ]
      },
      {
       "latex": [
        "$$c_{0} + c_{1} d + \\frac{d^{2} \\rho_{0}}{2 \\varepsilon_{0} \\varepsilon_{r}} = V_{d}$$"
       ],
       "metadata": {},
       "output_type": "display_data",
       "png": "[encoded data removed]",
       "text": [
        "                       2                   \n",
        "                      d \u22c5\u03c1\u2080                \n",
        "c\u2080 + c\u2081\u22c5d + \u2500\u2500\u2500\u2500\u2500\u2500\u2500\u2500\u2500\u2500\u2500\u2500\u2500\u2500\u2500\u2500\u2500\u2500\u2500\u2500\u2500\u2500\u2500\u2500\u2500 = V_d\n",
        "            2\u22c5varepsilon\u2080\u22c5varepsilon\u1d63      "
       ]
      }
     ],
     "prompt_number": 4
    },
    {
     "cell_type": "markdown",
     "metadata": {},
     "source": [
      "So, we can simply substitute $c_0$ with $V_0$"
     ]
    },
    {
     "cell_type": "code",
     "collapsed": false,
     "input": [
      "eq1 = Veq.replace(x,d).replace(c_0, V_0)\n",
      "display(relational.Eq(eq1, V_d))"
     ],
     "language": "python",
     "metadata": {},
     "outputs": [
      {
       "latex": [
        "$$V_{0} + c_{1} d + \\frac{d^{2} \\rho_{0}}{2 \\varepsilon_{0} \\varepsilon_{r}} = V_{d}$$"
       ],
       "metadata": {},
       "output_type": "display_data",
       "png": "[encoded data removed]",
       "text": [
        "                       2                   \n",
        "                      d \u22c5\u03c1\u2080                \n",
        "V\u2080 + c\u2081\u22c5d + \u2500\u2500\u2500\u2500\u2500\u2500\u2500\u2500\u2500\u2500\u2500\u2500\u2500\u2500\u2500\u2500\u2500\u2500\u2500\u2500\u2500\u2500\u2500\u2500\u2500 = V_d\n",
        "            2\u22c5varepsilon\u2080\u22c5varepsilon\u1d63      "
       ]
      }
     ],
     "prompt_number": 5
    },
    {
     "cell_type": "markdown",
     "metadata": {},
     "source": [
      "and solve it for $c_1$"
     ]
    },
    {
     "cell_type": "code",
     "collapsed": false,
     "input": [
      "solution = solve(eq1,c_1)\n",
      "display(solution)"
     ],
     "language": "python",
     "metadata": {},
     "outputs": [
      {
       "latex": [
        "$$\\left [ - \\frac{V_{0}}{d} - \\frac{d \\rho_{0}}{2 \\varepsilon_{0} \\varepsilon_{r}}\\right ]$$"
       ],
       "metadata": {},
       "output_type": "display_data",
       "png": "[encoded data removed]",
       "text": [
        "\u23a1  V\u2080              d\u22c5\u03c1\u2080          \u23a4\n",
        "\u23a2- \u2500\u2500 - \u2500\u2500\u2500\u2500\u2500\u2500\u2500\u2500\u2500\u2500\u2500\u2500\u2500\u2500\u2500\u2500\u2500\u2500\u2500\u2500\u2500\u2500\u2500\u2500\u2500\u23a5\n",
        "\u23a3  d    2\u22c5varepsilon\u2080\u22c5varepsilon\u1d63\u23a6"
       ]
      }
     ],
     "prompt_number": 6
    },
    {
     "cell_type": "markdown",
     "metadata": {},
     "source": [
      "Put $c_0$ and $c_1$ to $V$ equation"
     ]
    },
    {
     "cell_type": "code",
     "collapsed": false,
     "input": [
      "display(Veq)\n",
      "solved = Veq.replace(c_0,V_0).replace(c_1,solution[0])\n",
      "display(relational.Eq(solved,V))"
     ],
     "language": "python",
     "metadata": {},
     "outputs": [
      {
       "latex": [
        "$$c_{0} + c_{1} x + \\frac{\\rho_{0} x^{2}}{2 \\varepsilon_{0} \\varepsilon_{r}}$$"
       ],
       "metadata": {},
       "output_type": "display_data",
       "png": "[encoded data removed]",
       "text": [
        "                          2          \n",
        "                      \u03c1\u2080\u22c5x           \n",
        "c\u2080 + c\u2081\u22c5x + \u2500\u2500\u2500\u2500\u2500\u2500\u2500\u2500\u2500\u2500\u2500\u2500\u2500\u2500\u2500\u2500\u2500\u2500\u2500\u2500\u2500\u2500\u2500\u2500\u2500\n",
        "            2\u22c5varepsilon\u2080\u22c5varepsilon\u1d63"
       ]
      },
      {
       "latex": [
        "$$V_{0} + \\frac{\\rho_{0} x^{2}}{2 \\varepsilon_{0} \\varepsilon_{r}} + x \\left(- \\frac{V_{0}}{d} - \\frac{d \\rho_{0}}{2 \\varepsilon_{0} \\varepsilon_{r}}\\right) = V{\\left (x \\right )}$$"
       ],
       "metadata": {},
       "output_type": "display_data",
       "png": "[encoded data removed]",
       "text": [
        "                   2                                                        \n",
        "               \u03c1\u2080\u22c5x                \u239b  V\u2080              d\u22c5\u03c1\u2080          \u239e       \n",
        "V\u2080 + \u2500\u2500\u2500\u2500\u2500\u2500\u2500\u2500\u2500\u2500\u2500\u2500\u2500\u2500\u2500\u2500\u2500\u2500\u2500\u2500\u2500\u2500\u2500\u2500\u2500 + x\u22c5\u239c- \u2500\u2500 - \u2500\u2500\u2500\u2500\u2500\u2500\u2500\u2500\u2500\u2500\u2500\u2500\u2500\u2500\u2500\u2500\u2500\u2500\u2500\u2500\u2500\u2500\u2500\u2500\u2500\u239f = V(x)\n",
        "     2\u22c5varepsilon\u2080\u22c5varepsilon\u1d63     \u239d  d    2\u22c5varepsilon\u2080\u22c5varepsilon\u1d63\u23a0       "
       ]
      }
     ],
     "prompt_number": 7
    },
    {
     "cell_type": "markdown",
     "metadata": {},
     "source": [
      "Output the solution as a string for evaluation"
     ]
    },
    {
     "cell_type": "code",
     "collapsed": false,
     "input": [
      "str(solved)"
     ],
     "language": "python",
     "metadata": {},
     "outputs": [
      {
       "metadata": {},
       "output_type": "pyout",
       "prompt_number": 8,
       "text": [
        "'V_0 + rho_0*x**2/(2*varepsilon_0*varepsilon_r) + x*(-V_0/d - d*rho_0/(2*varepsilon_0*varepsilon_r))'"
       ]
      }
     ],
     "prompt_number": 8
    },
    {
     "cell_type": "markdown",
     "metadata": {},
     "source": [
      "Evaluate analytical solution"
     ]
    },
    {
     "cell_type": "code",
     "collapsed": false,
     "input": [
      "varepsilon_0 = 8.8541878176*10e-12 #F/m\n",
      "varepsilon_r = 1\n",
      "V_0 = 1 #Volt\n",
      "d = 0.08 #m\n",
      "rho_0 = 10e-8 # C/m**3\n",
      "x = symbols('x')\n",
      "evaluate = V_0 + rho_0*x**2/(2*varepsilon_0*varepsilon_r) + x*(-V_0/d - d*rho_0/(2*varepsilon_0*varepsilon_r))\n",
      "print(evaluate)  ## Check substitution\n",
      "print(evaluate.subs({x:0.08})) # Check right boundary\n",
      "nmax = 50  # Number of samples for plotting\n",
      "x_vec = np.linspace(0.0, d, num=nmax)\n",
      "y_vec = np.array([ evaluate.subs({x:value}) for value in x_vec])  "
     ],
     "language": "python",
     "metadata": {},
     "outputs": [
      {
       "output_type": "stream",
       "stream": "stdout",
       "text": [
        "564.704533380374*x**2 - 57.6763626704299*x + 1\n",
        "0\n"
       ]
      }
     ],
     "prompt_number": 9
    },
    {
     "cell_type": "markdown",
     "metadata": {},
     "source": [
      "Plot the solution"
     ]
    },
    {
     "cell_type": "code",
     "collapsed": false,
     "input": [
      "fig, ax = plt.subplots()\n",
      "ax.plot(x_vec, y_vec);\n",
      "ax.set_xlim(0,0.08);"
     ],
     "language": "python",
     "metadata": {},
     "outputs": [
      {
       "metadata": {},
       "output_type": "display_data",
       "png": "[encoded data removed]",
       "text": [
        "<matplotlib.figure.Figure at 0x7ffa455c85f8>"
       ]
      }
     ],
     "prompt_number": 10
    },
    {
     "cell_type": "heading",
     "level": 1,
     "metadata": {},
     "source": [
      "FEM derivation\n"
     ]
    },
    {
     "cell_type": "heading",
     "level": 2,
     "metadata": {},
     "source": [
      "Split into discrets, approximate the solution with shape (interpolation) functions."
     ]
    },
    {
     "cell_type": "markdown",
     "metadata": {},
     "source": [
      "We can split our 1D continious space into uniform line segments (cells), and we will address them as finite elements. Each element has coordinates $x_1$ and $x_2$, which correspond to local nodes 1 and 2 of the element. We can transform this coordinates to the natural ones (related to the reference cell):\n",
      "$$ \\xi = \\frac{2(x-x_1)}{x_2-x_1}-1 $$\n",
      "This way the coordinate inside the cell will be $(\u22121 \\leq \\xi \\leq 1)$. We will use uniform domain discretization and approximate the solution with linear shape functions:\n",
      "$$ N_1(\\xi)=\\frac{1-\\xi}{2}$$\n",
      "$$ N_2(\\xi)=\\frac{1+\\xi}{2}$$\n",
      "At any point inside the master (reference) element, the primary unknown quantity of potential $V$ can be expressed as approximate value\n",
      "$$ \\widetilde{V}(\\xi) = V_1 N_1(\\xi)+V_{2} N_{2}(\\xi)$$ \n",
      "or we can map it back to the real cell\n",
      "$$ \\widetilde{V}(x)=\\left. \\sum_{j=1}^{n} v_j N_j(x)\\right|_{n=2}$$\n",
      "where $v_j$ are the solution values at the nodes of the element."
     ]
    },
    {
     "cell_type": "heading",
     "level": 2,
     "metadata": {},
     "source": [
      "Galerkin method"
     ]
    },
    {
     "cell_type": "markdown",
     "metadata": {},
     "source": [
      "Note: we will use $\\rho_v = -\\rho_0 $ and $\\varepsilon = \\varepsilon_r \\varepsilon_0$"
     ]
    },
    {
     "cell_type": "markdown",
     "metadata": {},
     "source": [
      "We can rewrite the Poisson`s equation"
     ]
    },
    {
     "cell_type": "markdown",
     "metadata": {},
     "source": [
      "$$\\frac{d}{dx}\\left(\\varepsilon\\frac{dV}{dx}\\right)+\\rho_v=0$$\n",
      "Week form of this equation can be applied to the approximate solution $\\widetilde{V}$. In other words, if we have found such a $\\widetilde{V}$ that fits well to the original Poisson`s equation it should also be also correct to multiply both sides of the equation with an arbitrary test function $\\omega$ and integrate it over the domain:"
     ]
    },
    {
     "cell_type": "markdown",
     "metadata": {},
     "source": [
      "$$ \\int_{x_1}^{x_2} \\omega \n",
      "\\left[\n",
      "  \\frac{d}{dx}\n",
      "  \\left( \n",
      "   \\varepsilon\\frac{d\\widetilde{V}}{dx}\n",
      "  \\right)+\\rho_v\n",
      "\\right] dx =0 $$\n"
     ]
    },
    {
     "cell_type": "markdown",
     "metadata": {},
     "source": [
      "It is often preferred that the weight functions $\\omega(x)$ be identical to the interpolation or shape functions $N (x)$. This approach is known as the **Galerkin finite element\n",
      "method**. We will start with integration by parts to rewrite the first term of the equation above, using:\n",
      "    $$\\int_a^b U dV = UV|_a^b + \\int_a^b V dU$$\n",
      "we can get:\n",
      "\n",
      "\n",
      "$$  \\int_{x_1}^{x_2} \\omega \n",
      "\\left[ d\n",
      "  \\left( \n",
      "   \\varepsilon\\frac{d\\widetilde{V}}{dx}\n",
      "  \\right)\n",
      "\\right]\n",
      "=\n",
      "\\omega   \\varepsilon\n",
      "  \\left.\\frac{d\\widetilde{V}}{dx}\n",
      "  \\right|_{x_1}^{x_2}  \n",
      "-\n",
      "\\int_{x_1}^{x_2} \\left( \\frac{d\\omega}{dx} \\right) \n",
      "   \\varepsilon\\frac{d\\widetilde{V}}{dx}\n",
      "dx\n",
      "$$"
     ]
    },
    {
     "cell_type": "markdown",
     "metadata": {},
     "source": [
      "Thus, the weak formulation of the governing differential equation can be expressed as\n",
      "$$\n",
      "\\int_{x_1}^{x_2} \\left( \\frac{d\\omega}{dx} \\right) \n",
      "   \\varepsilon\\frac{d\\widetilde{V}}{dx}\n",
      "dx\n",
      "-\n",
      "\\int_{x_1}^{x_2} \\omega \\rho_v dx \n",
      "-\n",
      "\\omega   \\varepsilon \n",
      "  \\left.\\frac{d\\widetilde{V}}{dx}\n",
      "  \\right|_{x_1}^{x_2}  \n",
      "= 0\n",
      "$$\n",
      "or\n",
      "$$\n",
      "\\int_{x_1}^{x_2} \\left( \\frac{d\\omega}{dx} \\right) \n",
      "   \\varepsilon\\frac{d\\widetilde{V}}{dx}\n",
      "dx\n",
      "=\n",
      "\\int_{x_1}^{x_2} \\omega \\rho_v dx \n",
      "+\n",
      "\\omega   \\varepsilon \n",
      "  \\left.\\frac{d\\widetilde{V}}{dx}\n",
      "  \\right|_{x_1}^{x_2}  \n",
      "$$"
     ]
    },
    {
     "cell_type": "markdown",
     "metadata": {},
     "source": [
      "By definition of the electric displacement\n",
      "$$D_x = -\\varepsilon\\frac{dV}{dx} $$ \n",
      "so \n",
      "$$\\omega   \\varepsilon \n",
      "  \\left.\\frac{d\\widetilde{V}}{dx}\n",
      "  \\right|_{x_1}^{x_2}  \n",
      "= \\omega(x_1) \\widetilde{D}_x (x_1)\n",
      "- \\omega(x_2) \\widetilde{D}_x (x_2)\n",
      "$$"
     ]
    },
    {
     "cell_type": "markdown",
     "metadata": {},
     "source": [
      "and the full equation is\n",
      "$$\n",
      "\\int_{x_1}^{x_2} \\left( \\frac{d\\omega}{dx} \\right) \n",
      "   \\varepsilon\\frac{d\\widetilde{V}}{dx}\n",
      "dx\n",
      "=\n",
      "\\int_{x_1}^{x_2} \\omega \\rho_v dx \n",
      "+\n",
      "\\omega(x_1) \\widetilde{D}_x (x_1)\n",
      "- \\omega(x_2) \\widetilde{D}_x (x_2)\n",
      "$$"
     ]
    },
    {
     "cell_type": "markdown",
     "metadata": {},
     "source": [
      "The last step in Galerkin method is to use shape functions $N(x)$ as weight functions $\\omega(x)$ \n",
      "and substitute\n",
      "$$ \\widetilde{V}(x)= \\sum_{j=1}^{n} v_j N_j(x)$$"
     ]
    },
    {
     "cell_type": "markdown",
     "metadata": {},
     "source": [
      "Here, for 1D case we have selected \n",
      "$$ N_1(\\xi)=\\frac{1-\\xi}{2}$$\n",
      "$$ N_2(\\xi)=\\frac{1+\\xi}{2}$$\n",
      "so $N_1(x_1) = 1$, $N_1(x_2) = 0$, $N_2(x_1) = 0$, $N_2(x_2) = 1$"
     ]
    },
    {
     "cell_type": "markdown",
     "metadata": {},
     "source": [
      "And for both test functions we will get an equation system\n",
      "$$\n",
      "\\int_{x_1}^{x_2} \\left( \\frac{dN_1}{dx} \\right) \n",
      "   \\varepsilon \n",
      "   \\left(\n",
      "   \\sum_{j=1}^{2}   v_j \\frac{dN_j }{dx}\n",
      "   \\right)\n",
      "dx\n",
      "=\n",
      "\\int_{x_1}^{x_2} N_1 \\rho_v dx \n",
      "+ \\widetilde{D}_x (x_1)\n",
      "$$\n",
      "$$\n",
      "\\int_{x_1}^{x_2} \\left( \\frac{dN_2}{dx} \\right) \n",
      "   \\varepsilon \n",
      "   \\left(\n",
      "   \\sum_{j=1}^{2}   v_j \\frac{dN_j }{dx}\n",
      "   \\right)\n",
      "dx\n",
      "=\n",
      "\\int_{x_1}^{x_2} N_2 \\rho_v dx \n",
      "- \\widetilde{D}_x (x_2)\n",
      "$$\n"
     ]
    },
    {
     "cell_type": "markdown",
     "metadata": {},
     "source": [
      "In matrix form\n",
      "$$\n",
      "\\begin{bmatrix}\n",
      "    K_{11}       & K_{12}\\\\\n",
      "    K_{21}       & K_{22}\n",
      "\\end{bmatrix}\n",
      "\\begin{bmatrix}\n",
      "    v_{1}\\\\\n",
      "    v_{2}\n",
      "\\end{bmatrix}\n",
      "=\n",
      "\\begin{bmatrix}\n",
      "    f_{1}\\\\\n",
      "    f_{2}\n",
      "\\end{bmatrix} +\n",
      "\\begin{bmatrix}\n",
      "    \\widetilde{D}_{1}\\\\\n",
      "    -\\widetilde{D}_{2}\n",
      "\\end{bmatrix}\n",
      "$$"
     ]
    },
    {
     "cell_type": "markdown",
     "metadata": {},
     "source": [
      "where\n",
      "$$ K_{ij} = \\int_{x_1}^{x_2} \\left( \\frac{dN_i}{dx} \\right) \n",
      "   \\varepsilon \n",
      "   \\left(\\frac{dN_j }{dx}\n",
      "   \\right)\n",
      "dx\n",
      "$$\n",
      "and\n",
      "$$ f_i = \\int_{x_1}^{x_2} N_i \\rho_v dx $$"
     ]
    },
    {
     "cell_type": "markdown",
     "metadata": {},
     "source": [
      "As soon as $N_i$ is a linear function that changes by 1 on the length of the cell $l = x_2 - x_1$ it is very easy to evaluate the above integrals, so"
     ]
    },
    {
     "cell_type": "markdown",
     "metadata": {},
     "source": [
      "$$ K = \\frac{\\varepsilon}{l}\n",
      "\\begin{bmatrix}\n",
      "     1  &  -1\\\\\n",
      "    -1  &   1\n",
      "\\end{bmatrix}\n",
      "$$\n",
      "and using $\\rho_v = -\\rho_0 $ \n",
      "$$ f= -\\frac{l \\rho_0}{2}\n",
      "\\begin{bmatrix}\n",
      "    1\\\\\n",
      "    1\n",
      "\\end{bmatrix}\n",
      "$$"
     ]
    },
    {
     "cell_type": "markdown",
     "metadata": {},
     "source": [
      "Finally, the governing matrix system for a single element is given by\n",
      "$$\n",
      "\\frac{\\varepsilon}{l}\n",
      "\\begin{bmatrix}\n",
      "     1  &  -1\\\\\n",
      "    -1  &   1\n",
      "\\end{bmatrix}\n",
      "\\begin{bmatrix}\n",
      "    v_{1}\\\\\n",
      "    v_{2}\n",
      "\\end{bmatrix}\n",
      "= -\\frac{l \\rho_0}{2}\n",
      "\\begin{bmatrix}\n",
      "    1\\\\\n",
      "    1\n",
      "\\end{bmatrix} \n",
      "+\n",
      "\\begin{bmatrix}\n",
      "    \\widetilde{D}_{1}\\\\\n",
      "    -\\widetilde{D}_{2}\n",
      "\\end{bmatrix}$$"
     ]
    },
    {
     "cell_type": "heading",
     "level": 2,
     "metadata": {},
     "source": [
      "Assembly of Elements"
     ]
    },
    {
     "cell_type": "markdown",
     "metadata": {},
     "source": [
      "At the beggining lets consider the case of two connected cells (finite elemets, in 1D case they are segments). For each of them we have a matix equation, with $^{(1)}$ supersript for the first element and $^{(2)}$ for the second one. With the regular meshing the length all elements is the same, e.g. $l^{(1)}=l^{(2)}=l$"
     ]
    },
    {
     "cell_type": "markdown",
     "metadata": {},
     "source": [
      "$$\n",
      "\\frac{\\varepsilon^{(1)}}{l}\n",
      "\\begin{bmatrix}\n",
      "     1  &  -1\\\\\n",
      "    -1  &   1\n",
      "\\end{bmatrix}\n",
      "\\begin{bmatrix}\n",
      "    v_{1}^{(1)}\\\\\n",
      "    v_{2}^{(1)}\n",
      "\\end{bmatrix}\n",
      "= -\\frac{l \\rho_0}{2}\n",
      "\\begin{bmatrix}\n",
      "    1\\\\\n",
      "    1\n",
      "\\end{bmatrix} \n",
      "+\n",
      "\\begin{bmatrix}\n",
      "    \\widetilde{D}_{1}^{(1)}\\\\\n",
      "    -\\widetilde{D}_{2}^{(1)}\n",
      "\\end{bmatrix}$$"
     ]
    },
    {
     "cell_type": "markdown",
     "metadata": {},
     "source": [
      "$$\n",
      "\\frac{\\varepsilon^{(2)}}{l}\n",
      "\\begin{bmatrix}\n",
      "     1  &  -1\\\\\n",
      "    -1  &   1\n",
      "\\end{bmatrix}\n",
      "\\begin{bmatrix}\n",
      "    v_{1}^{(2)}\\\\\n",
      "    v_{2}^{(2)}\n",
      "\\end{bmatrix}\n",
      "= -\\frac{l \\rho_0}{2}\n",
      "\\begin{bmatrix}\n",
      "    1\\\\\n",
      "    1\n",
      "\\end{bmatrix} \n",
      "+\n",
      "\\begin{bmatrix}\n",
      "    \\widetilde{D}_{1}^{(2)}\\\\\n",
      "    -\\widetilde{D}_{2}^{(2)}\n",
      "\\end{bmatrix}$$"
     ]
    },
    {
     "cell_type": "markdown",
     "metadata": {},
     "source": [
      "As soon as elements are connected the potential has the same value at the point of the connection\n",
      "$$v_{2}^{(1)} = v_{1}^{(2)}$$"
     ]
    },
    {
     "cell_type": "markdown",
     "metadata": {},
     "source": [
      "We can introduce the global enumeration for the primary unknown quantity of potential, so lets consider\n",
      "$$\\widetilde{V}_0 = v_{1}^{(1)}$$\n",
      "$$\\widetilde{V}_1 = v_{2}^{(1)} = v_{1}^{(2)}$$\n",
      "$$\\widetilde{V}_2 = v_{2}^{(2)}$$\n"
     ]
    },
    {
     "cell_type": "markdown",
     "metadata": {},
     "source": [
      "Now the equation systems for each element can be written in the equivalent form of\n",
      "\n",
      "$$\n",
      "\\frac{\\varepsilon^{(1)}}{l}\n",
      "\\begin{bmatrix}\n",
      "     1  &  -1 & 0\\\\\n",
      "    -1  &   1 & 0\\\\\n",
      "     0  &   0 & 0\n",
      "\\end{bmatrix}\n",
      "\\begin{bmatrix}\n",
      "    \\widetilde{V}_0\\\\\n",
      "    \\widetilde{V}_1\\\\\n",
      "    \\widetilde{V}_2\n",
      "\\end{bmatrix}\n",
      "= -\\frac{l \\rho_0}{2}\n",
      "\\begin{bmatrix}\n",
      "    1\\\\\n",
      "    1\\\\\n",
      "    0\\\\\n",
      "\\end{bmatrix} \n",
      "+\n",
      "\\begin{bmatrix}\n",
      "    \\widetilde{D}_{1}^{(1)}\\\\\n",
      "    -\\widetilde{D}_{2}^{(1)}\\\\\n",
      "    0\n",
      "\\end{bmatrix}$$\n"
     ]
    },
    {
     "cell_type": "markdown",
     "metadata": {},
     "source": [
      "$$\n",
      "\\frac{\\varepsilon^{(2)}}{l}\n",
      "\\begin{bmatrix}\n",
      "     0  &   0 &  0\\\\\n",
      "     0  &   1 & -1\\\\\n",
      "     0  &  -1 &  1\n",
      "\\end{bmatrix}\n",
      "\\begin{bmatrix}\n",
      "    \\widetilde{V}_0\\\\\n",
      "    \\widetilde{V}_1\\\\\n",
      "    \\widetilde{V}_2\n",
      "\\end{bmatrix}\n",
      "= -\\frac{l \\rho_0}{2}\n",
      "\\begin{bmatrix}\n",
      "    0\\\\\n",
      "    1\\\\\n",
      "    1\\\\\n",
      "\\end{bmatrix} \n",
      "+\n",
      "\\begin{bmatrix}\n",
      "    0\\\\\n",
      "    \\widetilde{D}_{1}^{(2)}\\\\\n",
      "    -\\widetilde{D}_{2}^{(2)}    \n",
      "\\end{bmatrix}$$\n"
     ]
    },
    {
     "cell_type": "markdown",
     "metadata": {},
     "source": [
      "As far as problem domian uses a homogenous distribution of material parameter $\\varepsilon^{(1)} = \\varepsilon^{(2)} = \\varepsilon$ and we can simply add one equation system to another, and summarize the equations that corresponds to the same row of the extende $K$ matrix."
     ]
    },
    {
     "cell_type": "markdown",
     "metadata": {},
     "source": [
      "$$\n",
      "\\frac{\\varepsilon}{l}\n",
      "\\begin{bmatrix}\n",
      "     1  &   -1 &  0\\\\\n",
      "     -1  &   2 & -1\\\\\n",
      "     0  &  -1 &  1\n",
      "\\end{bmatrix}\n",
      "\\begin{bmatrix}\n",
      "    \\widetilde{V}_0\\\\\n",
      "    \\widetilde{V}_1\\\\\n",
      "    \\widetilde{V}_2\n",
      "\\end{bmatrix}\n",
      "= -\\frac{l \\rho_0}{2}\n",
      "\\begin{bmatrix}\n",
      "    1\\\\\n",
      "    2\\\\\n",
      "    1\\\\\n",
      "\\end{bmatrix} \n",
      "+\n",
      "\\begin{bmatrix}\n",
      " \\widetilde{D}_{1}^{(1)}\\\\\n",
      "    -\\widetilde{D}_{2}^{(1)}+    \\widetilde{D}_{1}^{(2)}\\\\\n",
      "    -\\widetilde{D}_{2}^{(2)}    \n",
      "\\end{bmatrix}$$"
     ]
    },
    {
     "cell_type": "markdown",
     "metadata": {},
     "source": [
      "For homogenous charge distribution $\\rho_0$ and small elements (so, the change of the potential is smooth enough in the neighbor cells) the difference $\\widetilde{D}_{1}^{(2)} -\\widetilde{D}_{2}^{(1)} \\simeq 0$"
     ]
    },
    {
     "cell_type": "markdown",
     "metadata": {},
     "source": [
      "$$\n",
      "\\frac{\\varepsilon}{l}\n",
      "\\begin{bmatrix}\n",
      "     1  &   -1 &  0\\\\\n",
      "     -1  &   2 & -1\\\\\n",
      "     0  &  -1 &  1\n",
      "\\end{bmatrix}\n",
      "\\begin{bmatrix}\n",
      "    \\widetilde{V}_0\\\\\n",
      "    \\widetilde{V}_1\\\\\n",
      "    \\widetilde{V}_2\n",
      "\\end{bmatrix}\n",
      "= -\\frac{l \\rho_0}{2}\n",
      "\\begin{bmatrix}\n",
      "    1\\\\\n",
      "    2\\\\\n",
      "    1\\\\\n",
      "\\end{bmatrix} \n",
      "+\n",
      "\\begin{bmatrix}\n",
      " \\widetilde{D}_{1}^{(1)}\\\\\n",
      "    0\\\\\n",
      "    -\\widetilde{D}_{2}^{(2)}    \n",
      "\\end{bmatrix}$$"
     ]
    },
    {
     "cell_type": "markdown",
     "metadata": {},
     "source": [
      "This form can easily be extended to any number of finite elements in the model, e.g. system from 4 elements:\n",
      "$$\n",
      "\\frac{\\varepsilon}{l}\n",
      "\\begin{bmatrix}\n",
      "     1  &   -1 &  0 & 0 & 0\\\\\n",
      "     -1  &   2 & -1 & 0 & 0\\\\\n",
      "      0 & -1  &   2 & -1 & 0\\\\\n",
      "      0 & 0 &-1  &   2 & -1\\\\\n",
      "       0 & 0 & 0  &  -1 &  1 \n",
      "\\end{bmatrix}\n",
      "\\begin{bmatrix}\n",
      "    \\widetilde{V}_0\\\\\n",
      "    \\widetilde{V}_1\\\\\n",
      "    \\widetilde{V}_2\\\\\n",
      "    \\widetilde{V}_3\\\\\n",
      "    \\widetilde{V}_4\n",
      "\\end{bmatrix}\n",
      "= -\\frac{l \\rho_0}{2}\n",
      "\\begin{bmatrix}\n",
      "    1\\\\\n",
      "    2\\\\\n",
      "    2\\\\\n",
      "    2\\\\\n",
      "    1\\\\\n",
      "\\end{bmatrix} \n",
      "+\n",
      "\\begin{bmatrix}\n",
      " \\widetilde{D}_{1}^{(1)}\\\\\n",
      "    0\\\\\n",
      "    0\\\\\n",
      "    0\\\\\n",
      "    -\\widetilde{D}_{2}^{(2)}    \n",
      "\\end{bmatrix}$$"
     ]
    },
    {
     "cell_type": "markdown",
     "metadata": {},
     "source": [
      "To apply a  Dirichlet boundary condition to the left boundary of the first element we can directly substite it into the equation system. So for $\\widetilde{V}_0 = V_0$ we remove the first equation (the first row) and move the first column of the $K$ matrix to the right "
     ]
    },
    {
     "cell_type": "markdown",
     "metadata": {},
     "source": [
      "$$\n",
      "\\frac{\\varepsilon}{l}\n",
      "\\begin{bmatrix}     \n",
      "      2 & -1 &   0 &  0\\\\\n",
      "    -1  &  2 &  -1 &  0\\\\\n",
      "      0 &-1  &   2 & -1\\\\\n",
      "      0 & 0  &  -1 &  1 \n",
      "\\end{bmatrix}\n",
      "\\begin{bmatrix}    \n",
      "    \\widetilde{V}_1\\\\\n",
      "    \\widetilde{V}_2\\\\\n",
      "    \\widetilde{V}_3\\\\\n",
      "    \\widetilde{V}_4\n",
      "\\end{bmatrix}\n",
      "= -\\frac{l \\rho_0}{2}\n",
      "\\begin{bmatrix}    \n",
      "    2\\\\\n",
      "    2\\\\\n",
      "    2\\\\\n",
      "    1\\\\\n",
      "\\end{bmatrix} \n",
      "+\n",
      "\\begin{bmatrix}\n",
      "    0\\\\\n",
      "    0\\\\\n",
      "    0\\\\\n",
      "    -\\widetilde{D}_{2}^{(2)}    \n",
      "\\end{bmatrix}\n",
      "-\n",
      "\\frac{\\varepsilon}{l}\n",
      "\\begin{bmatrix}     \n",
      "     -1  \\\\\n",
      "      0 \\\\\n",
      "      0 \\\\\n",
      "       0  \n",
      "\\end{bmatrix}\n",
      "V_0\n",
      "$$"
     ]
    },
    {
     "cell_type": "markdown",
     "metadata": {},
     "source": [
      "Same for the right boundary of the last element. So for $\\widetilde{V}_4 = 0$ we remove the last equation (the bottom row) and remove the last column in $K$ matrix (it dissappears after multiplication to zero value of the potencial at the boundary). We also do not use $\\widetilde{D}$ vector anymore, as soon as it equals zero too."
     ]
    },
    {
     "cell_type": "markdown",
     "metadata": {},
     "source": [
      "$$\n",
      "\\frac{\\varepsilon}{l}\n",
      "\\begin{bmatrix}     \n",
      "      2 & -1 &   0 \\\\\n",
      "    -1  &  2 &  -1 \\\\\n",
      "      0 &-1  &   2 \\\\\n",
      "\\end{bmatrix}\n",
      "\\begin{bmatrix}    \n",
      "    \\widetilde{V}_1\\\\\n",
      "    \\widetilde{V}_2\\\\\n",
      "    \\widetilde{V}_3\\\\\n",
      "\\end{bmatrix}\n",
      "= -\\frac{l \\rho_0}{2}\n",
      "\\begin{bmatrix}    \n",
      "    2\\\\\n",
      "    2\\\\\n",
      "    2\\\\\n",
      "\\end{bmatrix} \n",
      "-\n",
      "\\frac{\\varepsilon}{l}\n",
      "\\begin{bmatrix}     \n",
      "     -1  \\\\\n",
      "      0 \\\\\n",
      "      0 \\\\   \n",
      "\\end{bmatrix}\n",
      "V_0\n",
      "$$"
     ]
    },
    {
     "cell_type": "markdown",
     "metadata": {},
     "source": [
      "Multiply $l/\\varepsilon$\n",
      "$$\n",
      "\\begin{bmatrix}     \n",
      "      2 & -1 &   0 \\\\\n",
      "    -1  &  2 &  -1 \\\\\n",
      "      0 &-1  &   2 \\\\\n",
      "\\end{bmatrix}\n",
      "\\begin{bmatrix}    \n",
      "    \\widetilde{V}_1\\\\\n",
      "    \\widetilde{V}_2\\\\\n",
      "    \\widetilde{V}_3\\\\\n",
      "\\end{bmatrix}\n",
      "= -\\frac{l^2 \\rho_0}{\\varepsilon}\n",
      "\\begin{bmatrix}    \n",
      "    1\\\\\n",
      "    1\\\\\n",
      "    1\\\\\n",
      "\\end{bmatrix} \n",
      "-\n",
      "\\begin{bmatrix}     \n",
      "     -1  \\\\\n",
      "      0 \\\\\n",
      "      0 \\\\   \n",
      "\\end{bmatrix}\n",
      "V_0\n",
      "$$"
     ]
    },
    {
     "cell_type": "heading",
     "level": 1,
     "metadata": {},
     "source": [
      "FEM implementation"
     ]
    },
    {
     "cell_type": "code",
     "collapsed": false,
     "input": [
      "# Set the model\n",
      "eps_0 = 8.8541878176*10e-12 #F/m\n",
      "eps_r = 1.0\n",
      "eps = eps_0*eps_r\n",
      "rho_0 = 10e-8 # C/m**3\n",
      "V_0 = .30 #Volt\n",
      "\n",
      "d = 0.08 #m\n",
      "number_of_elements = 5\n",
      "\n",
      "l=d/number_of_elements\n",
      "\n",
      "# After elimination from Dirichlet boundary condition we have less equations...\n",
      "K = np.zeros((number_of_elements-1,\n",
      "              number_of_elements-1))\n",
      "for i in range(number_of_elements-1):\n",
      "    for j in range(number_of_elements-1):\n",
      "        if i == j: K[i,j]=2\n",
      "        if abs(i-j)==1: K[i,j]=-1\n",
      "print(K)\n",
      "\n",
      "# Still we need all values of the potential\n",
      "V = np.zeros(number_of_elements + 1)\n",
      "V[0] = V_0\n",
      "\n",
      "# Set the right-hand side\n",
      "f = np.ones(number_of_elements-1)*(-(l**2)*rho_0)/(eps)\n",
      "f[0] += V_0\n",
      "V[1:-1] = np.linalg.solve(K,f)\n",
      "print(V)\n",
      "\n",
      "# Solve the system\n",
      "x_fem = np.linspace(0.0, d, num=number_of_elements+1)\n",
      "\n",
      "#Plot it with analytic solution.\n",
      "evaluate = V_0 + rho_0*x**2/(2*varepsilon_0*varepsilon_r) + x*(-V_0/d - d*rho_0/(2*varepsilon_0*varepsilon_r))\n",
      "x_vec = np.linspace(0.0, d, num=number_of_elements*10+1)\n",
      "y_vec = np.array([ evaluate.subs({x:value}) for value in x_vec]) \n",
      "fig, ax = plt.subplots()\n",
      "ax.plot(x_vec, y_vec, x_fem,V);\n",
      "ax.set_xlim(0,0.08);"
     ],
     "language": "python",
     "metadata": {},
     "outputs": [
      {
       "output_type": "stream",
       "stream": "stdout",
       "text": [
        "[[ 2. -1.  0.  0.]\n",
        " [-1.  2. -1.  0.]\n",
        " [ 0. -1.  2. -1.]\n",
        " [ 0.  0. -1.  2.]]\n",
        "[ 0.3        -0.33825744 -0.68738616 -0.74738616 -0.51825744  0.        ]\n"
       ]
      },
      {
       "metadata": {},
       "output_type": "display_data",
       "png": "[encoded data removed]",
       "text": [
        "<matplotlib.figure.Figure at 0x7ffa457de828>"
       ]
      }
     ],
     "prompt_number": 51
    },
    {
     "cell_type": "code",
     "collapsed": false,
     "input": [
      "x_vec = np.linspace(0.0, d, num=number_of_elements+1)\n",
      "y_vec = np.array([ evaluate.subs({x:value}) for value in x_vec]) \n",
      "fig, ax = plt.subplots()\n",
      "ax.plot(x_vec, (y_vec-V));\n",
      "ax.set_xlim(0,0.08);"
     ],
     "language": "python",
     "metadata": {},
     "outputs": [
      {
       "metadata": {},
       "output_type": "display_data",
       "png": "[encoded data removed]",
       "text": [
        "<matplotlib.figure.Figure at 0x7ffa45222c88>"
       ]
      }
     ],
     "prompt_number": 52
    },
    {
     "cell_type": "code",
     "collapsed": false,
     "input": [
      "%%javascript\n",
      "$.getScript('https://kmahelona.github.io/ipython_notebook_goodies/ipython_notebook_toc.js')"
     ],
     "language": "python",
     "metadata": {},
     "outputs": [
      {
       "javascript": [
        "$.getScript('https://kmahelona.github.io/ipython_notebook_goodies/ipython_notebook_toc.js')"
       ],
       "metadata": {},
       "output_type": "display_data",
       "text": [
        "<IPython.core.display.Javascript at 0x7ffa456d4e80>"
       ]
      }
     ],
     "prompt_number": 56
    },
    {
     "cell_type": "code",
     "collapsed": false,
     "input": [],
     "language": "python",
     "metadata": {},
     "outputs": []
    }
   ],
   "metadata": {}
  }
 ]
}